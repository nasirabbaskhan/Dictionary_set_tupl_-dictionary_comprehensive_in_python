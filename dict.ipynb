{
 "cells": [
  {
   "cell_type": "markdown",
   "metadata": {},
   "source": [
    "# dectionary\n",
    " * key:value  (items)\n",
    "   * key is replacement of indexes\n",
    "   * value is item\n",
    "\n",
    " * dict_variable[key]\n",
    "   * dict_variabl[new_key] =new_value\n",
    "     * add new values\n",
    "     * update the values"
   ]
  },
  {
   "cell_type": "code",
   "execution_count": 2,
   "metadata": {},
   "outputs": [],
   "source": [
    "# List\n",
    "data :list[str]  = [\"Nasir Abbas\", \"Manzoor hussain\", \"BS IT\"]"
   ]
  },
  {
   "cell_type": "code",
   "execution_count": 14,
   "metadata": {},
   "outputs": [
    {
     "data": {
      "text/plain": [
       "{'name': 'Nasir Abbas', 'fname': 'Manzoor hussain', 'education': 'BS IT'}"
      ]
     },
     "metadata": {},
     "output_type": "display_data"
    },
    {
     "data": {
      "text/plain": [
       "'Nasir Abbas'"
      ]
     },
     "metadata": {},
     "output_type": "display_data"
    },
    {
     "data": {
      "text/plain": [
       "'Manzoor hussain'"
      ]
     },
     "metadata": {},
     "output_type": "display_data"
    },
    {
     "data": {
      "text/plain": [
       "'BS IT'"
      ]
     },
     "metadata": {},
     "output_type": "display_data"
    }
   ],
   "source": [
    "# Dictionary\n",
    "data :dict[str,str]  = {\n",
    "                         \"name\":\"Nasir Abbas\",\n",
    "                        \"fname\":\"Manzoor hussain\",\n",
    "                        \"education\":\"BS IT\"\n",
    "                        }\n",
    "display(data)\n",
    "display(data[\"name\"])\n",
    "display(data[\"fname\"])\n",
    "display(data[\"education\"])\n",
    "\n",
    "\n",
    "\n"
   ]
  },
  {
   "cell_type": "code",
   "execution_count": 13,
   "metadata": {},
   "outputs": [
    {
     "data": {
      "text/plain": [
       "{'name': 'Nasir Abbas', 'fname': 'Manzoor hussain', 'education': 'BS IT'}"
      ]
     },
     "metadata": {},
     "output_type": "display_data"
    },
    {
     "data": {
      "text/plain": [
       "{'name': 'Nasir Abbas',\n",
       " 'fname': 'Manzoor hussain',\n",
       " 'education': 'BS IT',\n",
       " 'address': 'Jhang'}"
      ]
     },
     "metadata": {},
     "output_type": "display_data"
    }
   ],
   "source": [
    "data :dict[str,str]  = {\n",
    "                         \"name\":\"Nasir Abbas\",\n",
    "                        \"fname\":\"Manzoor hussain\",\n",
    "                        \"education\":\"BS IT\"\n",
    "                        }\n",
    "display(data)\n",
    "\n",
    "\n",
    "data[\"address\"] =\"Jhang\" # adding new value\n",
    "display(data)"
   ]
  },
  {
   "cell_type": "code",
   "execution_count": 15,
   "metadata": {},
   "outputs": [
    {
     "data": {
      "text/plain": [
       "{'name': 'Nasir Abbas', 'fname': 'Manzoor hussain', 'education': 'BS IT'}"
      ]
     },
     "metadata": {},
     "output_type": "display_data"
    },
    {
     "data": {
      "text/plain": [
       "{'name': 'Nasir Abbas',\n",
       " 'fname': 'Manzoor hussain',\n",
       " 'education': 'Master in Data Science'}"
      ]
     },
     "metadata": {},
     "output_type": "display_data"
    }
   ],
   "source": [
    "data :dict[str,str]  = {\n",
    "                         \"name\":\"Nasir Abbas\",\n",
    "                        \"fname\":\"Manzoor hussain\",\n",
    "                        \"education\":\"BS IT\"\n",
    "                        }\n",
    "display(data)\n",
    "\n",
    "\n",
    "data[\"education\"] =\"Master in Data Science\" # update value\n",
    "display(data)"
   ]
  },
  {
   "cell_type": "code",
   "execution_count": 18,
   "metadata": {},
   "outputs": [
    {
     "name": "stdout",
     "output_type": "stream",
     "text": [
      "{'name': 'Nasir Abbas', 'fname': 'Manzoor hussain', 'education': 'BS IT', 1: 'Pakistan', 'year': 2023}\n",
      "Nasir Abbas\n",
      "Manzoor hussain\n",
      "BS IT\n",
      "Pakistan\n",
      "2023\n"
     ]
    }
   ],
   "source": [
    "from typing import Dict, Union\n",
    "Key= Union[str,int] # create custom type \n",
    "Value= Union[str,int,dict,list,set,tuple] # create custom type \n",
    "data :Dict[Key,Value]  = {\n",
    "                         \"name\":\"Nasir Abbas\",\n",
    "                        \"fname\":\"Manzoor hussain\",\n",
    "                        \"education\":\"BS IT\",\n",
    "                        1:\"Pakistan\",\n",
    "                        \"year\":2023\n",
    "                        }\n",
    "print(data)\n",
    "print(data[\"name\"])\n",
    "print(data[\"fname\"])\n",
    "print(data[\"education\"])\n",
    "print(data[1])\n",
    "print(data[\"year\"])"
   ]
  },
  {
   "cell_type": "code",
   "execution_count": 20,
   "metadata": {},
   "outputs": [
    {
     "name": "stdout",
     "output_type": "stream",
     "text": [
      "{'name': 'Nasir Abbas', 'fname': 'Manzoor hussain', 'education': 'BS IT', 'xyz': [1, 2, 3], 'abc': (1, 2, 3), 'def': {1, 2, 3}, 'gif': {'a': 1, 'b': 2, 'c': 3}}\n",
      "Nasir Abbas\n",
      "Manzoor hussain\n",
      "[1, 2, 3]\n",
      "(1, 2, 3)\n",
      "{1, 2, 3}\n",
      "{'a': 1, 'b': 2, 'c': 3}\n",
      "1\n",
      "2\n",
      "3\n"
     ]
    }
   ],
   "source": [
    "from typing import Dict, Union\n",
    "Key= Union[str,int] # create custom type \n",
    "Value= Union[str,int,dict,list,set,tuple] # create custom type \n",
    "data :Dict[Key,Value]  = {\n",
    "                         \"name\":\"Nasir Abbas\",\n",
    "                        \"fname\":\"Manzoor hussain\",\n",
    "                        \"education\":\"BS IT\",\n",
    "                        \"xyz\":[1,2,3],\n",
    "                        \"abc\":(1,2,3),\n",
    "                        \"def\":{1,2,3},\n",
    "                        \"gif\":{\"a\":1,\"b\":2,\"c\":3},\n",
    "                        }\n",
    "print(data)\n",
    "print(data[\"name\"])\n",
    "print(data[\"fname\"])\n",
    "print(data[\"xyz\"])\n",
    "print(data[\"abc\"])\n",
    "print(data[\"def\"])\n",
    "print(data[\"gif\"])\n",
    "print(data[\"gif\"][\"a\"]) # getting value from inner dictionary\n",
    "print(data[\"gif\"][\"b\"])\n",
    "print(data[\"gif\"][\"c\"])"
   ]
  },
  {
   "cell_type": "markdown",
   "metadata": {},
   "source": [
    "# Methods"
   ]
  },
  {
   "cell_type": "code",
   "execution_count": 22,
   "metadata": {},
   "outputs": [
    {
     "data": {
      "text/plain": [
       "['clear',\n",
       " 'copy',\n",
       " 'fromkeys',\n",
       " 'get',\n",
       " 'items',\n",
       " 'keys',\n",
       " 'pop',\n",
       " 'popitem',\n",
       " 'setdefault',\n",
       " 'update',\n",
       " 'values']"
      ]
     },
     "execution_count": 22,
     "metadata": {},
     "output_type": "execute_result"
    }
   ],
   "source": [
    "# dictionary method\n",
    "data :dict[str,str]  = {\n",
    "                         \"name\":\"Nasir Abbas\",\n",
    "                        \"fname\":\"Manzoor hussain\",\n",
    "                        \"education\":\"BS IT\"\n",
    "                        }\n",
    "\n",
    "[i for i in dir(data) if \"_\" not in i]"
   ]
  },
  {
   "cell_type": "markdown",
   "metadata": {},
   "source": [
    "#### clear() method"
   ]
  },
  {
   "cell_type": "code",
   "execution_count": 47,
   "metadata": {},
   "outputs": [
    {
     "name": "stdout",
     "output_type": "stream",
     "text": [
      "before {'name': 'Nasir Abbas', 'fname': 'Manzoor hussain', 'education': 'BS IT'}\n",
      "after {}\n"
     ]
    }
   ],
   "source": [
    "data :dict[str,str]  = {\n",
    "                         \"name\":\"Nasir Abbas\",\n",
    "                        \"fname\":\"Manzoor hussain\",\n",
    "                        \"education\":\"BS IT\"\n",
    "                        }\n",
    "print(\"before\",data)\n",
    "data.clear()\n",
    "print(\"after\",data)"
   ]
  },
  {
   "cell_type": "markdown",
   "metadata": {},
   "source": [
    "#### pop() \n"
   ]
  },
  {
   "cell_type": "code",
   "execution_count": 48,
   "metadata": {},
   "outputs": [
    {
     "name": "stdout",
     "output_type": "stream",
     "text": [
      "before {'name': 'Nasir Abbas', 'fname': 'Manzoor hussain', 'education': 'BS IT'}\n",
      "BS IT\n",
      "after {'name': 'Nasir Abbas', 'fname': 'Manzoor hussain'}\n"
     ]
    }
   ],
   "source": [
    "data :dict[str,str]  = {\n",
    "                         \"name\":\"Nasir Abbas\",\n",
    "                        \"fname\":\"Manzoor hussain\",\n",
    "                        \"education\":\"BS IT\"\n",
    "                        }\n",
    "print(\"before\",data)\n",
    "a : str = data.pop(\"education\")\n",
    "print(a)\n",
    "print(\"after\",data)"
   ]
  },
  {
   "cell_type": "markdown",
   "metadata": {},
   "source": [
    "#### popitem() method\n",
    "* delete the last key value pair"
   ]
  },
  {
   "cell_type": "code",
   "execution_count": 54,
   "metadata": {},
   "outputs": [
    {
     "name": "stdout",
     "output_type": "stream",
     "text": [
      "before {'name': 'Nasir Abbas', 'fname': 'Manzoor hussain', 'education': 'BS IT'}\n",
      "('education', 'BS IT')\n",
      "after {'name': 'Nasir Abbas', 'fname': 'Manzoor hussain'}\n"
     ]
    }
   ],
   "source": [
    "data :dict[str,str]  = {\n",
    "                         \"name\":\"Nasir Abbas\",\n",
    "                        \"fname\":\"Manzoor hussain\",\n",
    "                        \"education\":\"BS IT\"\n",
    "                        }\n",
    "print(\"before\",data)\n",
    "a : str = data.popitem()\n",
    "print(a)\n",
    "print(\"after\",data)"
   ]
  },
  {
   "cell_type": "markdown",
   "metadata": {},
   "source": [
    "#### copy() method"
   ]
  },
  {
   "cell_type": "code",
   "execution_count": 53,
   "metadata": {},
   "outputs": [
    {
     "name": "stdout",
     "output_type": "stream",
     "text": [
      "before {'name': 'Nasir Abbas', 'fname': 'Manzoor hussain', 'education': 'BS IT'}\n",
      "after {'name': 'Nasir Abbas', 'fname': 'Manzoor hussain', 'education': 'BS IT'}\n",
      "data {'name': 'Nasir Abbas', 'fname': 'Manzoor hussain', 'education': 'BS IT'}\n",
      "data1 {'name': 'Nasir Abbas', 'fname': 'Manzoor hussain', 'education': 'BS IT', 'age': 20}\n"
     ]
    }
   ],
   "source": [
    "data :dict[str,str]  = {\n",
    "                         \"name\":\"Nasir Abbas\",\n",
    "                        \"fname\":\"Manzoor hussain\",\n",
    "                        \"education\":\"BS IT\"\n",
    "                        }\n",
    "print(\"before\",data)\n",
    "data1= data.copy() # deep copy\n",
    "print(\"after\",data1)\n",
    "\n",
    "data1['age']= 20\n",
    "print(\"data\",data)\n",
    "print(\"data1\",data1)"
   ]
  },
  {
   "cell_type": "code",
   "execution_count": 23,
   "metadata": {},
   "outputs": [
    {
     "ename": "KeyError",
     "evalue": "'pakistan'",
     "output_type": "error",
     "traceback": [
      "\u001b[1;31m---------------------------------------------------------------------------\u001b[0m",
      "\u001b[1;31mKeyError\u001b[0m                                  Traceback (most recent call last)",
      "Cell \u001b[1;32mIn[23], line 6\u001b[0m\n\u001b[0;32m      1\u001b[0m data :\u001b[38;5;28mdict\u001b[39m[\u001b[38;5;28mstr\u001b[39m,\u001b[38;5;28mstr\u001b[39m]  \u001b[38;5;241m=\u001b[39m {\n\u001b[0;32m      2\u001b[0m                          \u001b[38;5;124m\"\u001b[39m\u001b[38;5;124mname\u001b[39m\u001b[38;5;124m\"\u001b[39m:\u001b[38;5;124m\"\u001b[39m\u001b[38;5;124mNasir Abbas\u001b[39m\u001b[38;5;124m\"\u001b[39m,\n\u001b[0;32m      3\u001b[0m                         \u001b[38;5;124m\"\u001b[39m\u001b[38;5;124mfname\u001b[39m\u001b[38;5;124m\"\u001b[39m:\u001b[38;5;124m\"\u001b[39m\u001b[38;5;124mManzoor hussain\u001b[39m\u001b[38;5;124m\"\u001b[39m,\n\u001b[0;32m      4\u001b[0m                         \u001b[38;5;124m\"\u001b[39m\u001b[38;5;124meducation\u001b[39m\u001b[38;5;124m\"\u001b[39m:\u001b[38;5;124m\"\u001b[39m\u001b[38;5;124mBS IT\u001b[39m\u001b[38;5;124m\"\u001b[39m\n\u001b[0;32m      5\u001b[0m                         }\n\u001b[1;32m----> 6\u001b[0m \u001b[38;5;28mprint\u001b[39m(\u001b[43mdata\u001b[49m\u001b[43m[\u001b[49m\u001b[38;5;124;43m'\u001b[39;49m\u001b[38;5;124;43mpakistan\u001b[39;49m\u001b[38;5;124;43m'\u001b[39;49m\u001b[43m]\u001b[49m)\n",
      "\u001b[1;31mKeyError\u001b[0m: 'pakistan'"
     ]
    }
   ],
   "source": [
    "data :dict[str,str]  = {\n",
    "                         \"name\":\"Nasir Abbas\",\n",
    "                        \"fname\":\"Manzoor hussain\",\n",
    "                        \"education\":\"BS IT\"\n",
    "                        }\n",
    "print(data['pakistan'])"
   ]
  },
  {
   "cell_type": "markdown",
   "metadata": {},
   "source": [
    "#### get() method\n"
   ]
  },
  {
   "cell_type": "code",
   "execution_count": 26,
   "metadata": {},
   "outputs": [
    {
     "name": "stdout",
     "output_type": "stream",
     "text": [
      "not available\n",
      "BS IT\n"
     ]
    }
   ],
   "source": [
    "# get() method do not show if key is not exist\n",
    "data :dict[str,str]  = {\n",
    "                         \"name\":\"Nasir Abbas\",\n",
    "                        \"fname\":\"Manzoor hussain\",\n",
    "                        \"education\":\"BS IT\"\n",
    "                        }\n",
    "print(data.get('pakistan',\"not available\"))\n",
    "print(data.get('education',\"not available\"))"
   ]
  },
  {
   "cell_type": "markdown",
   "metadata": {},
   "source": [
    "#### setdefault() method\n",
    " * if key not available then add in dict"
   ]
  },
  {
   "cell_type": "code",
   "execution_count": 56,
   "metadata": {},
   "outputs": [
    {
     "name": "stdout",
     "output_type": "stream",
     "text": [
      "before {'name': 'Nasir Abbas', 'fname': 'Manzoor hussain', 'education': 'BS IT'}\n",
      "empty value\n",
      "after {'name': 'Nasir Abbas', 'fname': 'Manzoor hussain', 'education': 'BS IT', 'pakistan': 'empty value'}\n"
     ]
    }
   ],
   "source": [
    "data :dict[str,str]  = {\n",
    "                         \"name\":\"Nasir Abbas\",\n",
    "                        \"fname\":\"Manzoor hussain\",\n",
    "                        \"education\":\"BS IT\"\n",
    "                        }\n",
    "\n",
    "\n",
    "print(\"before\",data)\n",
    "a : str = data.setdefault('pakistan',\"empty value\")\n",
    "print(a)\n",
    "print(\"after\",data)\n"
   ]
  },
  {
   "cell_type": "markdown",
   "metadata": {},
   "source": [
    "#### update() method"
   ]
  },
  {
   "cell_type": "code",
   "execution_count": 57,
   "metadata": {},
   "outputs": [
    {
     "name": "stdout",
     "output_type": "stream",
     "text": [
      "{'name': 'Nasir Khan', 'fname': 'Manzoor hussain', 'education': 'BS IT', 'age': 20, 'height': '5 feet'}\n"
     ]
    }
   ],
   "source": [
    "from typing import Dict, Union,Any\n",
    "\n",
    "Key= Union[str,int] # create custom type \n",
    "Value= Union[str,int,Dict[str,int],list,set,tuple] # create custom type \n",
    "data :Dict[Key,Value]  = {\n",
    "                         \"name\":\"Nasir Abbas\",\n",
    "                        \"fname\":\"Manzoor hussain\",\n",
    "                        \"education\":\"BS IT\",\n",
    "                        }\n",
    "data1 :Dict[Key,Value]  = {\n",
    "                        \"name\":\"Nasir Khan\",\n",
    "                        \"age\":20,\n",
    "                        \"height\":\"5 feet\",\n",
    "                        }\n",
    "data.update(data1)\n",
    "print(data)"
   ]
  },
  {
   "cell_type": "code",
   "execution_count": 27,
   "metadata": {},
   "outputs": [
    {
     "name": "stdout",
     "output_type": "stream",
     "text": [
      "name\n",
      "fname\n",
      "education\n"
     ]
    }
   ],
   "source": [
    "data :dict[str,str]  = {\n",
    "                         \"name\":\"Nasir Abbas\",\n",
    "                        \"fname\":\"Manzoor hussain\",\n",
    "                        \"education\":\"BS IT\"\n",
    "                        }\n",
    "for d in data:\n",
    "    print(d) # it returns keys"
   ]
  },
  {
   "cell_type": "markdown",
   "metadata": {},
   "source": [
    "#### keys() method\n",
    "#### values() method\n",
    "#### items() method"
   ]
  },
  {
   "cell_type": "code",
   "execution_count": 29,
   "metadata": {},
   "outputs": [
    {
     "name": "stdout",
     "output_type": "stream",
     "text": [
      "dict_keys(['name', 'fname', 'education'])\n",
      "dict_values(['Nasir Abbas', 'Manzoor hussain', 'BS IT'])\n",
      "dict_items([('name', 'Nasir Abbas'), ('fname', 'Manzoor hussain'), ('education', 'BS IT')])\n"
     ]
    }
   ],
   "source": [
    "data :dict[str,str]  = {\n",
    "                         \"name\":\"Nasir Abbas\",\n",
    "                        \"fname\":\"Manzoor hussain\",\n",
    "                        \"education\":\"BS IT\"\n",
    "                        }\n",
    "print(data.keys()) # return keys\n",
    "print(data.values()) # return values\n",
    "print(data.items()) # return both keys and values"
   ]
  },
  {
   "cell_type": "code",
   "execution_count": 33,
   "metadata": {},
   "outputs": [
    {
     "name": "stdout",
     "output_type": "stream",
     "text": [
      "name Nasir Abbas\n",
      "fname Manzoor hussain\n",
      "education BS IT\n"
     ]
    }
   ],
   "source": [
    "data :dict[str,str]  = {\n",
    "                         \"name\":\"Nasir Abbas\",\n",
    "                        \"fname\":\"Manzoor hussain\",\n",
    "                        \"education\":\"BS IT\"\n",
    "                        }\n",
    "# print(data.keys()) # return keys\n",
    "# print(data.values()) # return values\n",
    "# print(data.items()) # return both keys and values\n",
    "for k in data.keys():\n",
    "    print(k,data[k])"
   ]
  },
  {
   "cell_type": "code",
   "execution_count": 34,
   "metadata": {},
   "outputs": [
    {
     "name": "stdout",
     "output_type": "stream",
     "text": [
      "Nasir Abbas\n",
      "Manzoor hussain\n",
      "BS IT\n"
     ]
    }
   ],
   "source": [
    "data :dict[str,str]  = {\n",
    "                         \"name\":\"Nasir Abbas\",\n",
    "                        \"fname\":\"Manzoor hussain\",\n",
    "                        \"education\":\"BS IT\"\n",
    "                        }\n",
    "# print(data.keys()) # return keys\n",
    "# print(data.values()) # return values\n",
    "# print(data.items()) # return both keys and values\n",
    "for v in data.values():\n",
    "    print(v)"
   ]
  },
  {
   "cell_type": "code",
   "execution_count": 35,
   "metadata": {},
   "outputs": [
    {
     "name": "stdout",
     "output_type": "stream",
     "text": [
      "name Nasir Abbas\n",
      "fname Manzoor hussain\n",
      "education BS IT\n"
     ]
    }
   ],
   "source": [
    "data :dict[str,str]  = {\n",
    "                         \"name\":\"Nasir Abbas\",\n",
    "                        \"fname\":\"Manzoor hussain\",\n",
    "                        \"education\":\"BS IT\"\n",
    "                        }\n",
    "# print(data.keys()) # return keys\n",
    "# print(data.values()) # return values\n",
    "# print(data.items()) # return both keys and values\n",
    "for k,v in data.items(): # zip function or destructure\n",
    "    print(k,v)"
   ]
  },
  {
   "cell_type": "code",
   "execution_count": 42,
   "metadata": {},
   "outputs": [
    {
     "name": "stdout",
     "output_type": "stream",
     "text": [
      "{'name': 'Nasir Abbas', 'fname': 'Manzoor hussain', 'education': 'BS IT'}\n",
      "{'Nasir Abbas': 'name', 'Manzoor hussain': 'fname', 'BS IT': 'education'}\n"
     ]
    }
   ],
   "source": [
    "# dictionary comprehnsive\n",
    "print({k:v for k,v in data.items() })\n",
    "print({v:k for k,v in data.items() }) # shfal the key pair values\n"
   ]
  },
  {
   "cell_type": "markdown",
   "metadata": {},
   "source": [
    "#### fromkeys( ) method"
   ]
  },
  {
   "cell_type": "code",
   "execution_count": 45,
   "metadata": {},
   "outputs": [
    {
     "name": "stdout",
     "output_type": "stream",
     "text": [
      "{}\n",
      "{'id': None, 'name': None, 'fname': None, 'course': None}\n"
     ]
    }
   ],
   "source": [
    "keys:list[str] = [\"id\", \"name\", \"fname\" ,\"course\"]\n",
    "data:dict[Key,Value]= {}\n",
    "print(data)\n",
    "data=data.fromkeys(keys)\n",
    "print(data)"
   ]
  },
  {
   "cell_type": "markdown",
   "metadata": {},
   "source": [
    "# json"
   ]
  },
  {
   "cell_type": "code",
   "execution_count": 61,
   "metadata": {},
   "outputs": [
    {
     "name": "stdout",
     "output_type": "stream",
     "text": [
      "<class 'dict'>\n",
      "{'name': 'Nasir Abbas', 'fname': 'Manzoor hussain', 'education': 'BS IT'}\n"
     ]
    }
   ],
   "source": [
    "from typing import Dict, Union,Any\n",
    "\n",
    "Key= Union[str,int] # create custom type \n",
    "Value= Union[str,int,Dict[str,int],list,set,tuple] # create custom type \n",
    "data :Dict[Key,Value]  = {\n",
    "                         \"name\":\"Nasir Abbas\",\n",
    "                        \"fname\":\"Manzoor hussain\",\n",
    "                        \"education\":\"BS IT\",\n",
    "                        }\n",
    "print(type(data))\n",
    "print(data)"
   ]
  },
  {
   "cell_type": "code",
   "execution_count": 60,
   "metadata": {},
   "outputs": [
    {
     "name": "stdout",
     "output_type": "stream",
     "text": [
      "<class 'str'>\n",
      "{\"name\": \"Nasir Abbas\", \"fname\": \"Manzoor hussain\", \"education\": \"BS IT\"}\n"
     ]
    }
   ],
   "source": [
    "import json\n",
    "data2= json.dumps(data)\n",
    "print(type(data2))\n",
    "print(data2)"
   ]
  }
 ],
 "metadata": {
  "kernelspec": {
   "display_name": "Python 3",
   "language": "python",
   "name": "python3"
  },
  "language_info": {
   "codemirror_mode": {
    "name": "ipython",
    "version": 3
   },
   "file_extension": ".py",
   "mimetype": "text/x-python",
   "name": "python",
   "nbconvert_exporter": "python",
   "pygments_lexer": "ipython3",
   "version": "3.12.3"
  }
 },
 "nbformat": 4,
 "nbformat_minor": 2
}
